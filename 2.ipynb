import pandas as pd
import numpy as np

def candidate_elimination(concepts, target):
    specific_h = concepts[0].copy()
    general_h = [['?' for _ in range(len(specific_h))] for _ in range(len(specific_h))]

    for i, h in enumerate(concepts):
        if target[i].lower() == 'yes':
            for x in range(len(specific_h)):
                if h[x].lower() != specific_h[x].lower():
                    specific_h[x] = '?'
                    general_h[x][x] = '?'
        elif target[i].lower() == 'no':
            for x in range(len(specific_h)):
                if h[x].lower() != specific_h[x].lower():
                    general_h[x][x] = specific_h[x]
                else:
                    general_h[x][x] = '?'

    general_h = [gh for gh in general_h if gh != ['?'] * len(specific_h)]
    return specific_h, general_h

csv_data = """Sky,Temp,Humidity,Wind,Water,Forecast,EnjoySport
Sunny,Warm,Normal,Strong,Warm,Same,Yes
Sunny,Warm,High,Strong,Warm,Same,Yes
Rainy,Cold,High,Strong,Warm,Change,No
Sunny,Warm,High,Strong,Cool,Change,Yes
"""
with open("sport_new.csv", "w") as f:
    f.write(csv_data)

data = pd.read_csv("sport_new.csv")
concepts = np.array(data.iloc[:, :-1])
target = np.array(data.iloc[:, -1])

specific_h, general_h = candidate_elimination(concepts, target)
print("Final Specific Hypothesis:", specific_h)
print("Final General Hypotheses:", general_h)
