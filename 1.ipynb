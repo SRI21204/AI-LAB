# find_s_fixed.py
import pandas as pd
import numpy as np

def train_find_s(instances, targets):
    # find first positive example to initialize specific hypothesis
    specific_h = None
    for i, t in enumerate(targets):
        if str(t).strip().lower() == "yes":
            specific_h = instances[i].copy()
            break
    if specific_h is None:
        # no positive examples
        return ["<no-positive-example>"] * instances.shape[1]

    # generalize using other positive examples
    for i, row in enumerate(instances):
        if str(targets[i]).strip().lower() == "yes":
            for j in range(len(specific_h)):
                # compare as strings, stripped & lowercased to avoid whitespace issues
                a = str(row[j]).strip().lower()
                b = str(specific_h[j]).strip().lower()
                if a != b:
                    specific_h[j] = '?'
    return specific_h

if __name__ == "__main__":
    df = pd.read_csv("sport.csv")             # put your CSV in same folder
    # drop header if necessary; ensure only attribute columns (no ID column)
    X = np.array(df.iloc[:, :-1])            # all attributes
    y = np.array(df.iloc[:, -1])             # target column
    # optional: strip whitespace in DataFrame columns
    for c in df.columns:
        if df[c].dtype == object:
            df[c] = df[c].str.strip()
    X = np.array(df.iloc[:, :-1])
    y = np.array(df.iloc[:, -1])
    final_h = train_find_s(X, y)
    print("Final hypothesis:", final_h)
