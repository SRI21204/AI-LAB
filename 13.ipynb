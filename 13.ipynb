{
 "cells": [
  {
   "cell_type": "code",
   "execution_count": 4,
   "id": "e0f5df84-6b5d-4fcf-ac1c-2505fb880b60",
   "metadata": {},
   "outputs": [
    {
     "name": "stdout",
     "output_type": "stream",
     "text": [
      "Path found: [(0, 0), (1, 0), (2, 0), (3, 0), (4, 0), (4, 1), (4, 2), (4, 3), (4, 4)]\n"
     ]
    }
   ],
   "source": [
    "import heapq\n",
    "\n",
    "class Node:\n",
    "    def __init__(self, state, parent, cost, heuristic):\n",
    "        self.state = state\n",
    "        self.parent = parent\n",
    "        self.cost = cost\n",
    "        self.heuristic = heuristic\n",
    "\n",
    "    def __lt__(self, other):\n",
    "        return self.heuristic < other.heuristic\n",
    "\n",
    "def best_first_search(start, goal, heuristic_fn, get_neighbors_fn):\n",
    "    open_list = []\n",
    "    closed_list = set()\n",
    "    start_node = Node(start, None, 0, heuristic_fn(start, goal))\n",
    "    heapq.heappush(open_list, start_node)\n",
    "\n",
    "    while open_list:\n",
    "        current_node = heapq.heappop(open_list)\n",
    "\n",
    "        if current_node.state == goal:\n",
    "            return reconstruct_path(current_node)\n",
    "\n",
    "        closed_list.add(current_node.state)\n",
    "\n",
    "        for neighbor, cost in get_neighbors_fn(current_node.state):\n",
    "            if neighbor in closed_list:\n",
    "                continue\n",
    "\n",
    "            neighbor_node = Node(neighbor, current_node,\n",
    "                                 current_node.cost + cost,\n",
    "                                 heuristic_fn(neighbor, goal))\n",
    "\n",
    "            skip = False\n",
    "            for open_node in open_list:\n",
    "                if open_node.state == neighbor and open_node.cost <= neighbor_node.cost:\n",
    "                    skip = True\n",
    "                    break\n",
    "            if not skip:\n",
    "                heapq.heappush(open_list, neighbor_node)\n",
    "\n",
    "    return None\n",
    "\n",
    "def reconstruct_path(node):\n",
    "    path = []\n",
    "    while node:\n",
    "        path.append(node.state)\n",
    "        node = node.parent\n",
    "    return path[::-1]\n",
    "\n",
    "def manhattan_distance(state, goal):\n",
    "    return abs(state[0] - goal[0]) + abs(state[1] - goal[1])\n",
    "\n",
    "def get_neighbors(state):\n",
    "    x, y = state\n",
    "    directions = [(-1,0), (1,0), (0,-1), (0,1)]  # up, down, left, right\n",
    "    neighbors = []\n",
    "    for dx, dy in directions:\n",
    "        nx, ny = x + dx, y + dy\n",
    "        if 0 <= nx < 5 and 0 <= ny < 5:  # restrict to 5x5 grid\n",
    "            neighbors.append(((nx, ny), 1))  # uniform cost\n",
    "    return neighbors\n",
    "\n",
    "# Define start and goal\n",
    "start = (0, 0)\n",
    "goal = (4, 4)\n",
    "\n",
    "# Run search\n",
    "path = best_first_search(start, goal, manhattan_distance, get_neighbors)\n",
    "\n",
    "# Output the result\n",
    "print(\"Path found:\", path)\n"
   ]
  }
 ],
 "metadata": {
  "kernelspec": {
   "display_name": "Python [conda env:base] *",
   "language": "python",
   "name": "conda-base-py"
  },
  "language_info": {
   "codemirror_mode": {
    "name": "ipython",
    "version": 3
   },
   "file_extension": ".py",
   "mimetype": "text/x-python",
   "name": "python",
   "nbconvert_exporter": "python",
   "pygments_lexer": "ipython3",
   "version": "3.12.7"
  }
 },
 "nbformat": 4,
 "nbformat_minor": 5
}
