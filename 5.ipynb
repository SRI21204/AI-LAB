{
 "cells": [
  {
   "cell_type": "code",
   "execution_count": 1,
   "id": "bb2fc3d4-81ab-4b23-bcbc-332f4cc1b09c",
   "metadata": {},
   "outputs": [
    {
     "name": "stdout",
     "output_type": "stream",
     "text": [
      "Accuracy Score: 0.6666666666666666\n"
     ]
    }
   ],
   "source": [
    "# Importing the libraries\n",
    "import numpy as np\n",
    "import matplotlib.pyplot as plt\n",
    "import pandas as pd\n",
    "import seaborn as sns\n",
    "\n",
    "# Importing the dataset\n",
    "dataset = pd.read_csv(\"NaiveBayes.csv\")\n",
    "\n",
    "# Splitting the data into inputs and outputs\n",
    "X = dataset.iloc[:, [0, 1]].values\n",
    "y = dataset.iloc[:, 2].values\n",
    "\n",
    "# Training and testing data\n",
    "from sklearn.model_selection import train_test_split\n",
    "X_train, X_test, y_train, y_test = train_test_split(X, y, test_size=0.25, random_state=0)\n",
    "\n",
    "# Scaling the input data\n",
    "from sklearn.preprocessing import StandardScaler\n",
    "sc_X = StandardScaler()\n",
    "X_train = sc_X.fit_transform(X_train)\n",
    "X_test = sc_X.transform(X_test)  # use transform, not fit_transform\n",
    "\n",
    "# Importing Gaussian Naive Bayes classifier\n",
    "from sklearn.naive_bayes import GaussianNB\n",
    "\n",
    "# Creating and training the Gaussian Classifier\n",
    "classifier1 = GaussianNB()\n",
    "classifier1.fit(X_train, y_train)\n",
    "\n",
    "# Predicting the test set results\n",
    "y_pred1 = classifier1.predict(X_test)\n",
    "\n",
    "# Importing accuracy score\n",
    "from sklearn.metrics import accuracy_score\n",
    "\n",
    "# Printing the accuracy of the model\n",
    "print(\"Accuracy Score:\", accuracy_score(y_test, y_pred1))\n"
   ]
  },
  {
   "cell_type": "code",
   "execution_count": null,
   "id": "a8340725-fe2d-479d-b355-0227c2e8c2c0",
   "metadata": {},
   "outputs": [],
   "source": []
  }
 ],
 "metadata": {
  "kernelspec": {
   "display_name": "Python [conda env:base] *",
   "language": "python",
   "name": "conda-base-py"
  },
  "language_info": {
   "codemirror_mode": {
    "name": "ipython",
    "version": 3
   },
   "file_extension": ".py",
   "mimetype": "text/x-python",
   "name": "python",
   "nbconvert_exporter": "python",
   "pygments_lexer": "ipython3",
   "version": "3.12.7"
  }
 },
 "nbformat": 4,
 "nbformat_minor": 5
}
