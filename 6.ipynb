{
 "cells": [
  {
   "cell_type": "code",
   "execution_count": 1,
   "id": "b1bbd871-cbc6-41c7-9102-8ae63dce0aa8",
   "metadata": {},
   "outputs": [
    {
     "name": "stdout",
     "output_type": "stream",
     "text": [
      "Accuracy Metrics:\n",
      "\n",
      "Accuracy: 0.6666666666666666\n",
      "Recall: 1.0\n",
      "Precision: 0.6666666666666666\n",
      "Confusion Matrix:\n",
      " [[0 1]\n",
      " [0 2]]\n"
     ]
    }
   ],
   "source": [
    "import numpy as np\n",
    "import matplotlib.pyplot as plt\n",
    "import pandas as pd\n",
    "import seaborn as sns\n",
    "\n",
    "# Importing the dataset\n",
    "dataset = pd.read_csv(\"NaiveBayes.csv\")\n",
    "\n",
    "# Split the data into inputs and outputs\n",
    "X = dataset.iloc[:, [0, 1]].values\n",
    "y = dataset.iloc[:, 2].values\n",
    "\n",
    "# Splitting into training and testing sets\n",
    "from sklearn.model_selection import train_test_split\n",
    "X_train, X_test, y_train, y_test = train_test_split(X, y, test_size=0.25, random_state=0)\n",
    "\n",
    "# Scaling the input data\n",
    "from sklearn.preprocessing import StandardScaler\n",
    "sc_X = StandardScaler()\n",
    "X_train = sc_X.fit_transform(X_train)\n",
    "X_test = sc_X.transform(X_test)  # use transform, not fit_transform\n",
    "\n",
    "# Importing Gaussian Naive Bayes classifier\n",
    "from sklearn.naive_bayes import GaussianNB\n",
    "\n",
    "# Creating and training the Gaussian Classifier\n",
    "classifier1 = GaussianNB()\n",
    "classifier1.fit(X_train, y_train)\n",
    "\n",
    "# Predicting on test set\n",
    "y_pred1 = classifier1.predict(X_test)\n",
    "\n",
    "# Importing accuracy and other metrics\n",
    "from sklearn.metrics import accuracy_score, confusion_matrix, precision_score, recall_score\n",
    "\n",
    "# Printing evaluation metrics\n",
    "print('Accuracy Metrics:\\n')\n",
    "print('Accuracy:', accuracy_score(y_test, y_pred1))\n",
    "print('Recall:', recall_score(y_test, y_pred1))\n",
    "print('Precision:', precision_score(y_test, y_pred1))\n",
    "print('Confusion Matrix:\\n', confusion_matrix(y_test, y_pred1))\n"
   ]
  },
  {
   "cell_type": "code",
   "execution_count": null,
   "id": "1eaf5129-51e2-4539-bc6d-f031b88e0f1f",
   "metadata": {},
   "outputs": [],
   "source": []
  }
 ],
 "metadata": {
  "kernelspec": {
   "display_name": "Python [conda env:base] *",
   "language": "python",
   "name": "conda-base-py"
  },
  "language_info": {
   "codemirror_mode": {
    "name": "ipython",
    "version": 3
   },
   "file_extension": ".py",
   "mimetype": "text/x-python",
   "name": "python",
   "nbconvert_exporter": "python",
   "pygments_lexer": "ipython3",
   "version": "3.12.7"
  }
 },
 "nbformat": 4,
 "nbformat_minor": 5
}
